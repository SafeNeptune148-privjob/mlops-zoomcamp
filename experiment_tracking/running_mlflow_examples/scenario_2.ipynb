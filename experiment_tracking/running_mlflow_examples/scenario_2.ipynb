{
 "cells": [
  {
   "cell_type": "markdown",
   "metadata": {},
   "source": [
    "# Scenario 2: A cross-functional team with one data scientis working on a ML model\n",
    "\n",
    "Mflow setup:\n",
    "###     - tracking server: yes, local server\n",
    "###     - backend store: sqlite database\n",
    "###     - artifacts store: local filesystem\n",
    "\n",
    "To run this example you need to launch the mlflow server locally by running the following command in the terminal:\n",
    "mlflow server --backend-store-uri sqlite:///backend.db"
   ]
  },
  {
   "cell_type": "code",
   "execution_count": 3,
   "metadata": {},
   "outputs": [],
   "source": [
    "import mlflow"
   ]
  },
  {
   "cell_type": "code",
   "execution_count": 4,
   "metadata": {},
   "outputs": [],
   "source": [
    "mlflow.set_tracking_uri(\"http://127.0.0.1:5000\")\n"
   ]
  },
  {
   "cell_type": "code",
   "execution_count": 5,
   "metadata": {},
   "outputs": [
    {
     "name": "stdout",
     "output_type": "stream",
     "text": [
      "tracking URI: 'http://127.0.0.1:5000'\n"
     ]
    }
   ],
   "source": [
    "print(f\"tracking URI: '{mlflow.get_tracking_uri()}'\")\n"
   ]
  },
  {
   "cell_type": "code",
   "execution_count": 6,
   "metadata": {},
   "outputs": [
    {
     "data": {
      "text/plain": [
       "[<Experiment: artifact_location='file:///C:/Users/mokon/Documents/Mlops-Zoomcamp/experiment_tracking/running_mlflow_examples/artifcts_local/0', creation_time=1747770218517, experiment_id='0', last_update_time=1747770218517, lifecycle_stage='active', name='Default', tags={}>]"
      ]
     },
     "execution_count": 6,
     "metadata": {},
     "output_type": "execute_result"
    }
   ],
   "source": [
    "mlflow.search_experiments()\n"
   ]
  },
  {
   "cell_type": "code",
   "execution_count": 7,
   "metadata": {},
   "outputs": [
    {
     "name": "stderr",
     "output_type": "stream",
     "text": [
      "2025/05/20 13:45:32 INFO mlflow.tracking.fluent: Experiment with name 'My-experiment-1' does not exist. Creating a new experiment.\n",
      "2025/05/20 13:45:53 WARNING mlflow.models.model: Model logged without a signature and input example. Please set `input_example` parameter when logging the model to auto infer the model signature.\n"
     ]
    },
    {
     "name": "stdout",
     "output_type": "stream",
     "text": [
      "default artifacts URI: file:///C:/Users/mokon/Documents/Mlops-Zoomcamp/experiment_tracking/running_mlflow_examples/artifcts_local/1/864f15818f2f4cbdbe6ea1c99684f768/artifacts\n",
      "🏃 View run awesome-worm-676 at: http://127.0.0.1:5000/#/experiments/1/runs/864f15818f2f4cbdbe6ea1c99684f768\n",
      "🧪 View experiment at: http://127.0.0.1:5000/#/experiments/1\n"
     ]
    }
   ],
   "source": [
    "from sklearn.linear_model import LogisticRegression\n",
    "from sklearn.datasets import load_iris\n",
    "from sklearn.metrics import accuracy_score\n",
    "\n",
    "mlflow.set_experiment(\"My-experiment-1\")\n",
    "with mlflow.start_run():\n",
    "\n",
    "    X,y = load_iris(return_X_y=True)\n",
    "    params = {\"C\": 0.1, \"random_state\": 42}\n",
    "    mlflow.log_params(params)\n",
    "\n",
    "    lr = LogisticRegression(**params)\n",
    "    lr.fit(X,y)\n",
    "    y_pred = lr.predict(X)\n",
    "    mlflow.log_metrics({\"accuracy\": accuracy_score(y, y_pred)})\n",
    "    \n",
    "    mlflow.sklearn.log_model(lr, artifact_path=\"models\")\n",
    "    print(\"default artifacts URI: {}\".format(mlflow.get_artifact_uri()))"
   ]
  },
  {
   "cell_type": "code",
   "execution_count": 8,
   "metadata": {},
   "outputs": [
    {
     "data": {
      "text/plain": [
       "[<Experiment: artifact_location='file:///C:/Users/mokon/Documents/Mlops-Zoomcamp/experiment_tracking/running_mlflow_examples/artifcts_local/1', creation_time=1747770332674, experiment_id='1', last_update_time=1747770332674, lifecycle_stage='active', name='My-experiment-1', tags={}>,\n",
       " <Experiment: artifact_location='file:///C:/Users/mokon/Documents/Mlops-Zoomcamp/experiment_tracking/running_mlflow_examples/artifcts_local/0', creation_time=1747770218517, experiment_id='0', last_update_time=1747770218517, lifecycle_stage='active', name='Default', tags={}>]"
      ]
     },
     "execution_count": 8,
     "metadata": {},
     "output_type": "execute_result"
    }
   ],
   "source": [
    "mlflow.search_experiments()"
   ]
  },
  {
   "cell_type": "markdown",
   "metadata": {},
   "source": [
    "## Interacting with the model registry"
   ]
  },
  {
   "cell_type": "code",
   "execution_count": 9,
   "metadata": {},
   "outputs": [],
   "source": [
    "from mlflow.tracking import MlflowClient\n",
    "\n",
    "client = MlflowClient(\"http://127.0.0.1:5000\")\n"
   ]
  },
  {
   "cell_type": "code",
   "execution_count": 10,
   "metadata": {},
   "outputs": [
    {
     "data": {
      "text/plain": [
       "[]"
      ]
     },
     "execution_count": 10,
     "metadata": {},
     "output_type": "execute_result"
    }
   ],
   "source": [
    "client.search_registered_models()"
   ]
  },
  {
   "cell_type": "markdown",
   "metadata": {},
   "source": [
    "#### We register one model"
   ]
  },
  {
   "cell_type": "code",
   "execution_count": 20,
   "metadata": {},
   "outputs": [
    {
     "name": "stderr",
     "output_type": "stream",
     "text": [
      "Registered model 'iris classifier' already exists. Creating a new version of this model...\n",
      "2025/05/20 13:59:59 INFO mlflow.store.model_registry.abstract_store: Waiting up to 300 seconds for model version to finish creation. Model name: iris classifier, version 1\n",
      "Created version '1' of model 'iris classifier'.\n"
     ]
    },
    {
     "data": {
      "text/plain": [
       "<ModelVersion: aliases=[], creation_timestamp=1747771199599, current_stage='None', description='', last_updated_timestamp=1747771199599, name='iris classifier', run_id='864f15818f2f4cbdbe6ea1c99684f768', run_link='', source='file:///C:/Users/mokon/Documents/Mlops-Zoomcamp/experiment_tracking/running_mlflow_examples/artifcts_local/1/864f15818f2f4cbdbe6ea1c99684f768/artifacts/models', status='READY', status_message=None, tags={}, user_id='', version='1'>"
      ]
     },
     "execution_count": 20,
     "metadata": {},
     "output_type": "execute_result"
    }
   ],
   "source": [
    "run = client.search_runs(experiment_ids=[\"1\"])[0].info.run_id\n",
    "mlflow.register_model(\n",
    "    model_uri=f\"runs:/{run}/models\",\n",
    "    name = \"iris classifier\"\n",
    ")"
   ]
  },
  {
   "cell_type": "code",
   "execution_count": null,
   "metadata": {},
   "outputs": [],
   "source": []
  }
 ],
 "metadata": {
  "kernelspec": {
   "display_name": "base",
   "language": "python",
   "name": "python3"
  },
  "language_info": {
   "codemirror_mode": {
    "name": "ipython",
    "version": 3
   },
   "file_extension": ".py",
   "mimetype": "text/x-python",
   "name": "python",
   "nbconvert_exporter": "python",
   "pygments_lexer": "ipython3",
   "version": "3.11.7"
  }
 },
 "nbformat": 4,
 "nbformat_minor": 2
}
