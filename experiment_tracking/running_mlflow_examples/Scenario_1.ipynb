{
 "cells": [
  {
   "cell_type": "markdown",
   "metadata": {},
   "source": [
    "# Scenario 1: A single data scientist participating in a ML competition\n",
    "\n",
    "Mlflow setupt:\n",
    "    * Tracking server: no\n",
    "    * Backend store: local filesystem\n",
    "    * Artifcats store: local filesystem"
   ]
  },
  {
   "cell_type": "code",
   "execution_count": 1,
   "metadata": {},
   "outputs": [],
   "source": [
    "import mlflow"
   ]
  },
  {
   "cell_type": "code",
   "execution_count": 2,
   "metadata": {},
   "outputs": [
    {
     "name": "stdout",
     "output_type": "stream",
     "text": [
      "tracking URI: ' file:///c:/Users/mokon/Documents/Mlops-Zoomcamp/experiment_tracking/running_mlflow_examples/mlruns'\n"
     ]
    }
   ],
   "source": [
    "print(f\"tracking URI: ' {mlflow.get_tracking_uri()}'\")\n"
   ]
  },
  {
   "cell_type": "code",
   "execution_count": 4,
   "metadata": {},
   "outputs": [
    {
     "data": {
      "text/plain": [
       "[<Experiment: artifact_location='file:///c:/Users/mokon/Documents/Mlops-Zoomcamp/experiment_tracking/running_mlflow_examples/mlruns/0', creation_time=1747765264108, experiment_id='0', last_update_time=1747765264108, lifecycle_stage='active', name='Default', tags={}>]"
      ]
     },
     "execution_count": 4,
     "metadata": {},
     "output_type": "execute_result"
    }
   ],
   "source": [
    "mlflow.search_experiments()\n"
   ]
  },
  {
   "cell_type": "markdown",
   "metadata": {},
   "source": [
    "### Creating a new experiment and logging a new run"
   ]
  },
  {
   "cell_type": "code",
   "execution_count": 7,
   "metadata": {},
   "outputs": [
    {
     "name": "stderr",
     "output_type": "stream",
     "text": [
      "2025/05/20 12:33:23 WARNING mlflow.models.model: Model logged without a signature and input example. Please set `input_example` parameter when logging the model to auto infer the model signature.\n"
     ]
    },
    {
     "name": "stdout",
     "output_type": "stream",
     "text": [
      "default artifacts URI: file:///c:/Users/mokon/Documents/Mlops-Zoomcamp/experiment_tracking/running_mlflow_examples/mlruns/266785146682996589/73cbcfd259d5449e8eecb0e6143a5eb5/artifacts\n"
     ]
    }
   ],
   "source": [
    "from sklearn.linear_model import LogisticRegression\n",
    "from sklearn.datasets import load_iris\n",
    "from sklearn.metrics import accuracy_score\n",
    "\n",
    "mlflow.set_experiment(\"My-experiment-1\")\n",
    "with mlflow.start_run():\n",
    "\n",
    "    X,y = load_iris(return_X_y=True)\n",
    "    params = {\"C\": 0.1, \"random_state\": 42}\n",
    "    mlflow.log_params(params)\n",
    "\n",
    "    lr = LogisticRegression(**params)\n",
    "    lr.fit(X,y)\n",
    "    y_pred = lr.predict(X)\n",
    "    mlflow.log_metrics({\"accuracy\": accuracy_score(y, y_pred)})\n",
    "    \n",
    "    mlflow.sklearn.log_model(lr, artifact_path=\"models\")\n",
    "    print(\"default artifacts URI: {}\".format(mlflow.get_artifact_uri()))"
   ]
  },
  {
   "cell_type": "code",
   "execution_count": 8,
   "metadata": {},
   "outputs": [
    {
     "data": {
      "text/plain": [
       "[<Experiment: artifact_location='file:///c:/Users/mokon/Documents/Mlops-Zoomcamp/experiment_tracking/running_mlflow_examples/mlruns/266785146682996589', creation_time=1747765805737, experiment_id='266785146682996589', last_update_time=1747765805737, lifecycle_stage='active', name='My-experiment-1', tags={}>,\n",
       " <Experiment: artifact_location='file:///c:/Users/mokon/Documents/Mlops-Zoomcamp/experiment_tracking/running_mlflow_examples/mlruns/0', creation_time=1747765264108, experiment_id='0', last_update_time=1747765264108, lifecycle_stage='active', name='Default', tags={}>]"
      ]
     },
     "execution_count": 8,
     "metadata": {},
     "output_type": "execute_result"
    }
   ],
   "source": [
    "mlflow.search_experiments()\n"
   ]
  },
  {
   "cell_type": "markdown",
   "metadata": {},
   "source": [
    "### Interacting with the model Registry"
   ]
  },
  {
   "cell_type": "code",
   "execution_count": 9,
   "metadata": {},
   "outputs": [],
   "source": [
    "from mlflow.tracking import MlflowClient\n",
    "\n",
    "client = MlflowClient()\n"
   ]
  },
  {
   "cell_type": "code",
   "execution_count": 13,
   "metadata": {},
   "outputs": [],
   "source": [
    "from mlflow.exceptions import MlflowException \n",
    "try:\n",
    "    client.search_registered_models()\n",
    "except MlflowException:\n",
    "    print(\"It's not possible to access the model registry\")\n"
   ]
  },
  {
   "cell_type": "code",
   "execution_count": null,
   "metadata": {},
   "outputs": [],
   "source": []
  }
 ],
 "metadata": {
  "kernelspec": {
   "display_name": "base",
   "language": "python",
   "name": "python3"
  },
  "language_info": {
   "codemirror_mode": {
    "name": "ipython",
    "version": 3
   },
   "file_extension": ".py",
   "mimetype": "text/x-python",
   "name": "python",
   "nbconvert_exporter": "python",
   "pygments_lexer": "ipython3",
   "version": "3.11.7"
  }
 },
 "nbformat": 4,
 "nbformat_minor": 2
}
