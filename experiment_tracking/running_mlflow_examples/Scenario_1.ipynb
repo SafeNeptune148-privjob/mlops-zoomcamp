{
 "cells": [
  {
   "cell_type": "markdown",
   "metadata": {},
   "source": [
    "# Scenario 1: A single data scientist participating in a ML competition\n",
    "\n",
    "Mlflow setupt:\n",
    "    * Tracking server: no\n",
    "    * Backend store: local filesystem\n",
    "    * Artifcats store: local filesystem"
   ]
  },
  {
   "cell_type": "code",
   "execution_count": 1,
   "metadata": {},
   "outputs": [],
   "source": [
    "import mlflow"
   ]
  },
  {
   "cell_type": "code",
   "execution_count": 2,
   "metadata": {},
   "outputs": [
    {
     "name": "stdout",
     "output_type": "stream",
     "text": [
      "tracking URI: ' file:///c:/Users/mokon/Documents/Mlops-Zoomcamp/experiment_tracking/running_mlflow_examples/mlruns'\n"
     ]
    }
   ],
   "source": [
    "print(f\"tracking URI: ' {mlflow.get_tracking_uri()}'\")\n"
   ]
  },
  {
   "cell_type": "code",
   "execution_count": 4,
   "metadata": {},
   "outputs": [
    {
     "data": {
      "text/plain": [
       "[<Experiment: artifact_location='file:///c:/Users/mokon/Documents/Mlops-Zoomcamp/experiment_tracking/running_mlflow_examples/mlruns/0', creation_time=1747765264108, experiment_id='0', last_update_time=1747765264108, lifecycle_stage='active', name='Default', tags={}>]"
      ]
     },
     "execution_count": 4,
     "metadata": {},
     "output_type": "execute_result"
    }
   ],
   "source": [
    "mlflow.search_experiments()\n"
   ]
  },
  {
   "cell_type": "markdown",
   "metadata": {},
   "source": [
    "### Creating a new experiment and logging a new run"
   ]
  },
  {
   "cell_type": "code",
   "execution_count": 5,
   "metadata": {},
   "outputs": [
    {
     "name": "stderr",
     "output_type": "stream",
     "text": [
      "2025/05/20 12:30:05 INFO mlflow.tracking.fluent: Experiment with name 'My-experiment-1' does not exist. Creating a new experiment.\n"
     ]
    },
    {
     "ename": "TypeError",
     "evalue": "LinearRegression.__init__() got an unexpected keyword argument 'C'",
     "output_type": "error",
     "traceback": [
      "\u001b[1;31m---------------------------------------------------------------------------\u001b[0m",
      "\u001b[1;31mTypeError\u001b[0m                                 Traceback (most recent call last)",
      "Cell \u001b[1;32mIn[5], line 12\u001b[0m\n\u001b[0;32m      9\u001b[0m params \u001b[38;5;241m=\u001b[39m {\u001b[38;5;124m\"\u001b[39m\u001b[38;5;124mC\u001b[39m\u001b[38;5;124m\"\u001b[39m: \u001b[38;5;241m0.1\u001b[39m, \u001b[38;5;124m\"\u001b[39m\u001b[38;5;124mrandom_state\u001b[39m\u001b[38;5;124m\"\u001b[39m: \u001b[38;5;241m42\u001b[39m}\n\u001b[0;32m     10\u001b[0m mlflow\u001b[38;5;241m.\u001b[39mlog_params(params)\n\u001b[1;32m---> 12\u001b[0m lr \u001b[38;5;241m=\u001b[39m LinearRegression(\u001b[38;5;241m*\u001b[39m\u001b[38;5;241m*\u001b[39mparams)\n\u001b[0;32m     13\u001b[0m lr\u001b[38;5;241m.\u001b[39mfit(X,y)\n\u001b[0;32m     14\u001b[0m y_pred \u001b[38;5;241m=\u001b[39m lr\u001b[38;5;241m.\u001b[39mpredict(X)\n",
      "\u001b[1;31mTypeError\u001b[0m: LinearRegression.__init__() got an unexpected keyword argument 'C'"
     ]
    }
   ],
   "source": [
    "from sklearn.linear_model import LinearRegression\n",
    "from sklearn.datasets import load_iris\n",
    "from sklearn.metrics import accuracy_score\n",
    "\n",
    "mlflow.set_experiment(\"My-experiment-1\")\n",
    "with mlflow.start_run():\n",
    "\n",
    "    X,y = load_iris(return_X_y=True)\n",
    "    params = {\"C\": 0.1, \"random_state\": 42}\n",
    "    mlflow.log_params(params)\n",
    "\n",
    "    lr = LinearRegression(**params)\n",
    "    lr.fit(X,y)\n",
    "    y_pred = lr.predict(X)\n",
    "    mlflow.log_metrics({\"accuracy\": accuracy_score(y, y_pred)})\n",
    "    \n",
    "    mlflow.sklearn.log_model(lr, artifact_path=\"models\")\n",
    "    print(\"default artifacts URI: {}\".format(mlflow.get_artifact_uri()))"
   ]
  }
 ],
 "metadata": {
  "kernelspec": {
   "display_name": "base",
   "language": "python",
   "name": "python3"
  },
  "language_info": {
   "codemirror_mode": {
    "name": "ipython",
    "version": 3
   },
   "file_extension": ".py",
   "mimetype": "text/x-python",
   "name": "python",
   "nbconvert_exporter": "python",
   "pygments_lexer": "ipython3",
   "version": "3.11.7"
  }
 },
 "nbformat": 4,
 "nbformat_minor": 2
}
