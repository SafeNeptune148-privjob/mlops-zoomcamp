{
 "cells": [
  {
   "cell_type": "markdown",
   "id": "8fecfebb",
   "metadata": {},
   "source": [
    "## Learning to use MLflowClient"
   ]
  },
  {
   "cell_type": "code",
   "execution_count": 1,
   "id": "c54c44c7",
   "metadata": {},
   "outputs": [],
   "source": [
    "from mlflow.tracking import MlflowClient"
   ]
  },
  {
   "cell_type": "code",
   "execution_count": 2,
   "id": "20f2a12d",
   "metadata": {},
   "outputs": [],
   "source": [
    "MLFLOW_TRACKING_URI = \"sqlite:///mlflow.db\"\n",
    "client = MlflowClient(tracking_uri = MLFLOW_TRACKING_URI)"
   ]
  },
  {
   "cell_type": "code",
   "execution_count": 3,
   "id": "5b7cb5eb",
   "metadata": {},
   "outputs": [
    {
     "data": {
      "text/plain": [
       "[<Experiment: artifact_location='file:///c:/Users/mokon/Documents/Mlops-Zoomcamp/experiment_tracking/mlruns/2', creation_time=1747427071090, experiment_id='2', last_update_time=1747427071090, lifecycle_stage='active', name='my-cool-experiment', tags={}>,\n",
       " <Experiment: artifact_location='file:///c:/Users/mokon/Documents/Mlops-Zoomcamp/experiment_tracking/mlruns/1', creation_time=1747076093313, experiment_id='1', last_update_time=1747076093313, lifecycle_stage='active', name='nyc_taxi_experiment', tags={}>,\n",
       " <Experiment: artifact_location='file:///c:/Users/mokon/Documents/Mlops-Zoomcamp/experiment_tracking/mlruns/0', creation_time=1747076093301, experiment_id='0', last_update_time=1747076093301, lifecycle_stage='active', name='Default', tags={}>]"
      ]
     },
     "execution_count": 3,
     "metadata": {},
     "output_type": "execute_result"
    }
   ],
   "source": [
    "client.search_experiments()"
   ]
  },
  {
   "cell_type": "code",
   "execution_count": 4,
   "id": "e19b0bfd",
   "metadata": {},
   "outputs": [],
   "source": [
    "#client.create_experiment(name = 'my-cool-experiment')"
   ]
  },
  {
   "cell_type": "code",
   "execution_count": 5,
   "id": "9bb7395f",
   "metadata": {},
   "outputs": [],
   "source": [
    "from mlflow.entities import ViewType\n",
    "\n",
    "runs = client.search_runs(\n",
    "    experiment_ids = '1',\n",
    "    filter_string = \"\",\n",
    "    run_view_type = ViewType.ACTIVE_ONLY,\n",
    "    max_results = 5,\n",
    "    order_by = [\"metrics.rmse ASC\"]\n",
    ")"
   ]
  },
  {
   "cell_type": "code",
   "execution_count": 6,
   "id": "c1f53c9c",
   "metadata": {},
   "outputs": [
    {
     "name": "stdout",
     "output_type": "stream",
     "text": [
      "run id: 55140c2782a24b869b3d9d84ff7ef79c rmse: 6.3268\n",
      "run id: 37ecb3e987924fa796fa4b769bd958b7 rmse: 6.3281\n",
      "run id: d47858d78c204939a1bd9a9be0019664 rmse: 6.3281\n",
      "run id: 9e250d49e34745af87534a451467bbef rmse: 6.3281\n",
      "run id: 1772eccf0f87494f9c9fbc81e14473b6 rmse: 6.3281\n"
     ]
    }
   ],
   "source": [
    "for run in runs:\n",
    "    print(\"run id: {}\".format(run.info.run_id), \"rmse: {}\".format(round(run.data.metrics[\"rmse\"],4)))"
   ]
  },
  {
   "cell_type": "code",
   "execution_count": 7,
   "id": "b5842f3f",
   "metadata": {},
   "outputs": [],
   "source": [
    "import mlflow"
   ]
  },
  {
   "cell_type": "code",
   "execution_count": 8,
   "id": "c794ef0a",
   "metadata": {},
   "outputs": [],
   "source": [
    "mlflow.set_tracking_uri(MLFLOW_TRACKING_URI)"
   ]
  },
  {
   "cell_type": "code",
   "execution_count": 9,
   "id": "e319bed5",
   "metadata": {},
   "outputs": [
    {
     "name": "stderr",
     "output_type": "stream",
     "text": [
      "Registered model 'nyc-taxi-regressor' already exists. Creating a new version of this model...\n",
      "Created version '5' of model 'nyc-taxi-regressor'.\n"
     ]
    },
    {
     "data": {
      "text/plain": [
       "<ModelVersion: aliases=[], creation_timestamp=1747432214196, current_stage='None', description=None, last_updated_timestamp=1747432214196, name='nyc-taxi-regressor', run_id='9e250d49e34745af87534a451467bbef', run_link=None, source='file:///c:/Users/mokon/Documents/Mlops-Zoomcamp/experiment_tracking/mlruns/1/9e250d49e34745af87534a451467bbef/artifacts/model', status='READY', status_message=None, tags={}, user_id=None, version=5>"
      ]
     },
     "execution_count": 9,
     "metadata": {},
     "output_type": "execute_result"
    }
   ],
   "source": [
    "run_id = \"9e250d49e34745af87534a451467bbef\"\n",
    "model_uri = f\"runs:/{run_id}/model\"\n",
    "mlflow.register_model(model_uri = model_uri, name = \"nyc-taxi-regressor\")"
   ]
  },
  {
   "cell_type": "code",
   "execution_count": 10,
   "id": "f137a080",
   "metadata": {},
   "outputs": [
    {
     "data": {
      "text/plain": [
       "[<RegisteredModel: aliases={'production': 3, 'staging': 1, 'stating': 2}, creation_timestamp=1747425297451, description='This is the new NTC Taxi predictor for Trip Duration', last_updated_timestamp=1747432214196, latest_versions=[<ModelVersion: aliases=[], creation_timestamp=1747432214196, current_stage='None', description=None, last_updated_timestamp=1747432214196, name='nyc-taxi-regressor', run_id='9e250d49e34745af87534a451467bbef', run_link=None, source='file:///c:/Users/mokon/Documents/Mlops-Zoomcamp/experiment_tracking/mlruns/1/9e250d49e34745af87534a451467bbef/artifacts/model', status='READY', status_message=None, tags={}, user_id=None, version=5>], name='nyc-taxi-regressor', tags={}>]"
      ]
     },
     "execution_count": 10,
     "metadata": {},
     "output_type": "execute_result"
    }
   ],
   "source": [
    "client.search_registered_models()"
   ]
  },
  {
   "cell_type": "code",
   "execution_count": 11,
   "id": "df394aa4",
   "metadata": {},
   "outputs": [
    {
     "name": "stdout",
     "output_type": "stream",
     "text": [
      "version: 5 ,  alias: []\n"
     ]
    },
    {
     "name": "stderr",
     "output_type": "stream",
     "text": [
      "C:\\Users\\mokon\\AppData\\Local\\Temp\\ipykernel_5296\\608088166.py:2: FutureWarning: ``mlflow.tracking.client.MlflowClient.get_latest_versions`` is deprecated since 2.9.0. Model registry stages will be removed in a future major release. To learn more about the deprecation of model registry stages, see our migration guide here: https://mlflow.org/docs/latest/model-registry.html#migrating-from-stages\n",
      "  latest_versions = client.get_latest_versions(name = model_name)\n"
     ]
    }
   ],
   "source": [
    "model_name = \"nyc-taxi-regressor\"\n",
    "latest_versions = client.get_latest_versions(name = model_name)\n",
    "for version in latest_versions:\n",
    "    print(\"version: {} ,  alias: {}\".format(version.version, version.aliases ))"
   ]
  },
  {
   "cell_type": "code",
   "execution_count": 12,
   "id": "977985b2",
   "metadata": {},
   "outputs": [
    {
     "data": {
      "text/plain": [
       "<ModelVersion: aliases=['production'], creation_timestamp=1747427946224, current_stage='None', description='The model version 3 was transitioned to production on 2025-05-16', last_updated_timestamp=1747432214546, name='nyc-taxi-regressor', run_id='9e250d49e34745af87534a451467bbef', run_link=None, source='file:///c:/Users/mokon/Documents/Mlops-Zoomcamp/experiment_tracking/mlruns/1/9e250d49e34745af87534a451467bbef/artifacts/model', status='READY', status_message=None, tags={}, user_id=None, version=3>"
      ]
     },
     "execution_count": 12,
     "metadata": {},
     "output_type": "execute_result"
    }
   ],
   "source": [
    "#Uploading the model\n",
    "from datetime import datetime\n",
    "date = datetime.today().date()\n",
    "model_version = 3\n",
    "client.update_model_version(\n",
    "    name = model_name,\n",
    "    version = model_version,\n",
    "    description = \"The model version {} was transitioned to production on {}\".format(model_version, date)\n",
    ")"
   ]
  },
  {
   "cell_type": "code",
   "execution_count": 71,
   "id": "a26014ac",
   "metadata": {},
   "outputs": [],
   "source": [
    "from sklearn.metrics import mean_squared_error\n",
    "import pandas as pd\n",
    "\n",
    "def read_dataframe(filename):\n",
    "    df = pd.read_parquet(filename)\n",
    "    \n",
    "    df[\"duration\"] = df.lpep_dropoff_datetime - df.lpep_pickup_datetime\n",
    "    df[\"duration\"] = df[\"duration\"].apply(lambda td: td.total_seconds()/60)\n",
    "    \n",
    "    df = df[(df.duration >=1) & (df.duration <=60)]\n",
    "    \n",
    "    categorical = [\"PULocationID\", \"DOLocationID\"]\n",
    "    df[categorical] = df[categorical].astype(str)\n",
    "    \n",
    "    return df\n",
    "\n",
    "def preprocess(df, dv):\n",
    "    numerical = [\"trip_distance\"]\n",
    "    categorical = [\"PULocationID\", \"DOLocationID\"]\n",
    "    train_dicts = df[categorical + numerical].to_dict(orient=\"records\")\n",
    "    return dv.transform(train_dicts)\n",
    "\n",
    "def test_model(name, alias, X_test, y_test):\n",
    "    client = MlflowClient()\n",
    "    version_info = client.get_model_version_by_alias(name=name, alias=alias)\n",
    "    model = mlflow.pyfunc.load_model(version_info.source)\n",
    "    y_pred = model.predict(X_test)\n",
    "    return {\"rmse\": mean_squared_error(y_test, y_pred, squared = False)}"
   ]
  },
  {
   "cell_type": "code",
   "execution_count": null,
   "id": "2f14dc91",
   "metadata": {},
   "outputs": [],
   "source": []
  },
  {
   "cell_type": "code",
   "execution_count": 14,
   "id": "719c0c1f",
   "metadata": {},
   "outputs": [],
   "source": [
    "df = read_dataframe(r\"C:\\Users\\mokon\\Documents\\Mlops-Zoomcamp\\green_tripdata_2021-03.parquet\")"
   ]
  },
  {
   "cell_type": "code",
   "execution_count": 15,
   "id": "24b99b53",
   "metadata": {},
   "outputs": [
    {
     "data": {
      "application/vnd.jupyter.widget-view+json": {
       "model_id": "bdb4c2504f21408a83cf48e2a8cf9afe",
       "version_major": 2,
       "version_minor": 0
      },
      "text/plain": [
       "Downloading artifacts:   0%|          | 0/1 [00:00<?, ?it/s]"
      ]
     },
     "metadata": {},
     "output_type": "display_data"
    },
    {
     "data": {
      "text/plain": [
       "'c:\\\\Users\\\\mokon\\\\Documents\\\\Mlops-Zoomcamp\\\\experiment_tracking\\\\preprocessor'"
      ]
     },
     "execution_count": 15,
     "metadata": {},
     "output_type": "execute_result"
    }
   ],
   "source": [
    "#Let's load the model\n",
    "client.download_artifacts(run_id = run_id, path = \"preprocessor\", dst_path=\".\")"
   ]
  },
  {
   "cell_type": "code",
   "execution_count": 16,
   "id": "4beb787a",
   "metadata": {},
   "outputs": [],
   "source": [
    "import pickle\n",
    "with open(\"preprocessor/preprocessor.b\",\"rb\") as f_in:\n",
    "    dv = pickle.load(f_in)"
   ]
  },
  {
   "cell_type": "code",
   "execution_count": 17,
   "id": "70647fec",
   "metadata": {},
   "outputs": [],
   "source": [
    "X_test = preprocess(df, dv)"
   ]
  },
  {
   "cell_type": "code",
   "execution_count": 18,
   "id": "7f6126f9",
   "metadata": {},
   "outputs": [],
   "source": [
    "target = \"duration\"\n",
    "y_test = df[target].values"
   ]
  },
  {
   "cell_type": "code",
   "execution_count": 72,
   "id": "ea0da41d",
   "metadata": {},
   "outputs": [
    {
     "name": "stdout",
     "output_type": "stream",
     "text": [
      "CPU times: total: 1min 35s\n",
      "Wall time: 16.1 s\n"
     ]
    },
    {
     "data": {
      "text/plain": [
       "{'rmse': 6.78649006142896}"
      ]
     },
     "execution_count": 72,
     "metadata": {},
     "output_type": "execute_result"
    }
   ],
   "source": [
    "%time test_model(name = model_name, alias = \"production\", X_test = X_test, y_test = y_test )"
   ]
  }
 ],
 "metadata": {
  "kernelspec": {
   "display_name": "base",
   "language": "python",
   "name": "python3"
  },
  "language_info": {
   "codemirror_mode": {
    "name": "ipython",
    "version": 3
   },
   "file_extension": ".py",
   "mimetype": "text/x-python",
   "name": "python",
   "nbconvert_exporter": "python",
   "pygments_lexer": "ipython3",
   "version": "3.11.7"
  }
 },
 "nbformat": 4,
 "nbformat_minor": 5
}
